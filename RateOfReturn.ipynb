{
 "cells": [
  {
   "cell_type": "markdown",
   "metadata": {},
   "source": [
    "# Investment Rate of Return Calculation\n",
    "\n",
    "Original author: David Banas <capn.freako@gmail.com>  \n",
    "Original date:   April 8, 2019\n",
    "\n",
    "Copyright &copy; 2019 David Banas; all rights reserved World wide.\n",
    "\n",
    "<a name=\"contents\"/>\n"
   ]
  },
  {
   "cell_type": "markdown",
   "metadata": {
    "toc": true
   },
   "source": [
    "<h1>Table of Contents<span class=\"tocSkip\"></span></h1>\n",
    "<div class=\"toc\" style=\"margin-top: 1em;\"><ul class=\"toc-item\"><li><span><a href=\"#Introduction\" data-toc-modified-id=\"Introduction-1\"><span class=\"toc-item-num\">1&nbsp;&nbsp;</span>Introduction</a></span></li><li><span><a href=\"#Importing-the-Data\" data-toc-modified-id=\"Importing-the-Data-2\"><span class=\"toc-item-num\">2&nbsp;&nbsp;</span>Importing the Data</a></span></li><li><span><a href=\"#The-Multiple-Holding-Periods-Approach\" data-toc-modified-id=\"The-Multiple-Holding-Periods-Approach-3\"><span class=\"toc-item-num\">3&nbsp;&nbsp;</span>The <em>Multiple Holding Periods</em> Approach</a></span></li><li><span><a href=\"#Correcting-for-Cash-Injections\" data-toc-modified-id=\"Correcting-for-Cash-Injections-4\"><span class=\"toc-item-num\">4&nbsp;&nbsp;</span>Correcting for Cash Injections</a></span><ul class=\"toc-item\"><li><span><a href=\"#Explaining-the-Idea\" data-toc-modified-id=\"Explaining-the-Idea-4.1\"><span class=\"toc-item-num\">4.1&nbsp;&nbsp;</span>Explaining the Idea</a></span></li><li><span><a href=\"#Correcting-the-Data\" data-toc-modified-id=\"Correcting-the-Data-4.2\"><span class=\"toc-item-num\">4.2&nbsp;&nbsp;</span>Correcting the Data</a></span></li><li><span><a href=\"#Checking-the-Results\" data-toc-modified-id=\"Checking-the-Results-4.3\"><span class=\"toc-item-num\">4.3&nbsp;&nbsp;</span>Checking the Results</a></span></li></ul></li><li><span><a href=\"#Checking-Curve-Fit-Quality\" data-toc-modified-id=\"Checking-Curve-Fit-Quality-5\"><span class=\"toc-item-num\">5&nbsp;&nbsp;</span>Checking Curve Fit Quality</a></span><ul class=\"toc-item\"><li><span><a href=\"#Qualitative-Assessment-of-2-pt.-Fits\" data-toc-modified-id=\"Qualitative-Assessment-of-2-pt.-Fits-5.1\"><span class=\"toc-item-num\">5.1&nbsp;&nbsp;</span>Qualitative Assessment of 2-pt. Fits</a></span></li><li><span><a href=\"#Quantitative-Measurement-of-2-pt.-Fits\" data-toc-modified-id=\"Quantitative-Measurement-of-2-pt.-Fits-5.2\"><span class=\"toc-item-num\">5.2&nbsp;&nbsp;</span>Quantitative Measurement of 2-pt. Fits</a></span></li><li><span><a href=\"#Finding-the-Best-Fit-to-All-the-Data\" data-toc-modified-id=\"Finding-the-Best-Fit-to-All-the-Data-5.3\"><span class=\"toc-item-num\">5.3&nbsp;&nbsp;</span>Finding the Best Fit to All the Data</a></span></li><li><span><a href=\"#Stability-in-Predicted-Yield-of-Best-Fit-Curve\" data-toc-modified-id=\"Stability-in-Predicted-Yield-of-Best-Fit-Curve-5.4\"><span class=\"toc-item-num\">5.4&nbsp;&nbsp;</span>Stability in Predicted Yield of <em>Best Fit</em> Curve</a></span></li></ul></li><li><span><a href=\"#Conclusion\" data-toc-modified-id=\"Conclusion-6\"><span class=\"toc-item-num\">6&nbsp;&nbsp;</span>Conclusion</a></span></li><li><span><a href=\"#Analyzing-Your-Own-Data\" data-toc-modified-id=\"Analyzing-Your-Own-Data-7\"><span class=\"toc-item-num\">7&nbsp;&nbsp;</span>Analyzing Your Own Data</a></span></li></ul></div>"
   ]
  },
  {
   "cell_type": "markdown",
   "metadata": {},
   "source": [
    "## Introduction\n",
    "\n",
    "This [Jupyter](http://jupyter.org) notebook offers some insights into calculating the _average annualized rate of return_ on an investment fund into which several point cash infusions have been made (i.e. - a typical 401(k) or IRA, for instance).\n",
    "\n",
    "The popular _Motley Fool_ site offers [this recipe](https://www.fool.com/about/how-to-calculate-investment-returns/) for calculating the average annualized rate of return on investments with _cash flow events_, but it suffers from a rather serious flaw: it uses just 2 points (beginning and end) to calculate the rate of return for any particular _holding period_.\n",
    "This makes the calculation very susceptible to the ordinary random fluctuations in the values of the various securities held in the fund.\n",
    "\n",
    "A better way is to fit an exponential curve to the entire data set using the [_least squares_](https://en.wikipedia.org/wiki/Least_squares) method.\n",
    "This approach has the advantage that _every_ point in the data set contributes to the estimate of return rate.\n",
    "(Note that the _Motley Fool_ approach is also doing exponential curve fitting, but uses only two data points - first and last.)\n",
    "\n",
    "However, we can't do this using the raw data, because we'd unfairly credit the fund performance for the cash injections we make.\n",
    "That is, the fund didn't _earn_ the increase in its balance that occurred when we deposited some cash into it.\n",
    "\n",
    "So, before attempting a _single holding period_ analysis of the fund performance, we have to correct for these cash injections somehow.\n",
    "I propose a method for doing this that flows from the simple notion:\n",
    "\n",
    "> The fund \"gain\" immediately before a cash injection should be the same as immediately after.\n",
    "\n",
    "I apply this method and then check its results against the simpler one prescribed by _The Fool_.\n",
    "\n",
    "The data used here are the actual results of my own investment in the [_Charles Schwab SWDRX_](https://client.schwab.com/secure/cc/research/mutual_funds/mfs.html?path=/research/Client/MutualFunds/Summary&symbol=SWDRX) fund, a targeted mutual fund intended for use by those planning to retire in (or, very near) 2030.\n",
    "The data have been normalized, to disguise the actual value I have invested.\n",
    "\n",
    "<a href=\"#contents\">Back to Contents</a>\n"
   ]
  },
  {
   "cell_type": "markdown",
   "metadata": {},
   "source": [
    "## Importing the Data\n",
    "\n",
    "The data used here are stored in a _comma separated value_ (CSV) file, a very common format used when exporting spreadsheet data.\n",
    "The data matrix contains the following columns:\n",
    "\n",
    "- _Date_ - The date for each row.\n",
    "    \n",
    "- _Balance_ - The actual (normalized) dollar value of the account.\n",
    "Note that this amount reflects all reinvested dividends and capital gains, as well as the fund share price changes.\n",
    "(In my case, all dividends and capital gains have been reinvested.)\n",
    "\n",
    "- _Xfr In_ - External injections of cash into the account.\n",
    "    \n",
    "**Note:** For rows containing a non-zero value in the _Xfr In_ column the amount in the _Balance_ column is assumed to include the cash injected.\n",
    "That is, all balances are given _post_-cash injection.\n"
   ]
  },
  {
   "cell_type": "code",
   "execution_count": 1,
   "metadata": {
    "ExecuteTime": {
     "end_time": "2019-04-16T13:19:29.625324Z",
     "start_time": "2019-04-16T13:19:27.248526Z"
    },
    "collapsed": false,
    "scrolled": true
   },
   "outputs": [],
   "source": [
    "%matplotlib inline \n",
    "from matplotlib import pyplot as plt\n",
    "\n",
    "import numpy  as np\n",
    "import pandas as pd\n",
    "\n",
    "filename = \"DavesIRA.csv\"\n",
    "df = pd.read_csv(filename, parse_dates=['Date'],\n",
    "                 dtype={'Balance': np.float64,\n",
    "                        'XfrIn'  : np.float64\n",
    "                        })\n"
   ]
  },
  {
   "cell_type": "markdown",
   "metadata": {},
   "source": [
    "<a href=\"#contents\">Back to Contents</a>\n"
   ]
  },
  {
   "cell_type": "markdown",
   "metadata": {},
   "source": [
    "## The _Multiple Holding Periods_ Approach\n",
    "\n",
    "The approach suggested by _The Motley Fool_ segregates the data on boundaries of non-zero values in the _Xfr In_ column and calculates the return for each of these _holding periods_ independently.\n",
    "(That's how they avoid the messy subject of correcting for cash injections.)"
   ]
  },
  {
   "cell_type": "code",
   "execution_count": 2,
   "metadata": {
    "ExecuteTime": {
     "end_time": "2019-04-16T13:19:30.123353Z",
     "start_time": "2019-04-16T13:19:29.941963Z"
    },
    "collapsed": false,
    "scrolled": true
   },
   "outputs": [
    {
     "name": "stdout",
     "output_type": "stream",
     "text": [
      "Holding Period Analysis:\n",
      "\n",
      "Period   Beginning Balance   Ending Balance   Return\n",
      "____________________________________________________\n",
      "   1           1.0000              1.2571     1.2571\n",
      "   2           1.9776              2.7415     1.3863\n",
      "   3           4.1417              5.2220     1.2608\n",
      "   4           5.4079              5.4486     1.0075\n",
      "____________________________________________________\n",
      "Total Return:                                 2.2138\n",
      "\n",
      "Start Date: 2006-04-10 00:00:00\n",
      "End Date:   2019-02-28 00:00:00\n",
      "Days Held:  4707\n",
      "Average annualized yield:  6.4%\n"
     ]
    }
   ],
   "source": [
    "def findXfrIns(df):\n",
    "    \"\"\"Find all rows containing cash injections.\"\"\"\n",
    "    ixs = list(np.where(df.XfrIn != 0)[0])\n",
    "    if(ixs[0] == 0):  # We know the opening balance occurred\n",
    "      ixs = ixs[1:]   # due to a cash injection.\n",
    "    return ixs\n",
    "    \n",
    "def findMHPs(df):\n",
    "    \"\"\"Find start/end balances of all multiple holding periods.\"\"\"\n",
    "    ixs = findXfrIns(df)\n",
    "    ixPrs = zip([0] + ixs, ixs)\n",
    "    valPrs = map(lambda ixPr: (df.iloc[ixPr[0]]['Balance'],\n",
    "                               df.iloc[ixPr[1]]['Balance'] - df.iloc[ixPr[1]]['XfrIn']),\n",
    "                 ixPrs)\n",
    "    valPrs += [(df.iloc[ixs[-1]]    ['Balance'],\n",
    "                df.loc[df.index[-1]]['Balance'])]\n",
    "    return valPrs\n",
    "\n",
    "def calcMHPReturns(df):\n",
    "    \"\"\"Calculate returns for all multiple holding periods.\"\"\"\n",
    "    valPrs = findMHPs(df)\n",
    "    returns = []\n",
    "    for valPr in valPrs:\n",
    "        returns.append(valPr[1] / valPr[0])\n",
    "    return (returns, valPrs)\n",
    "    \n",
    "def printMHPReturns(df):\n",
    "    \"\"\"Print the returns, using the Motley Fool approach.\"\"\"\n",
    "    print \"Holding Period Analysis:\"\n",
    "    print \"\"\n",
    "    print \"Period   Beginning Balance   Ending Balance   Return\"\n",
    "    print \"____________________________________________________\"\n",
    "    (returns, valPrs) = calcMHPReturns(df)\n",
    "    period = 0\n",
    "    for ret in returns:\n",
    "        startVal = valPrs[period][0]\n",
    "        endVal   = valPrs[period][1]\n",
    "        partRet  = ret\n",
    "        period  += 1\n",
    "        print \"%4d           %6.4f              %6.4f     %6.4f\" % \\\n",
    "              (period, startVal, endVal, partRet)\n",
    "    print \"____________________________________________________\"\n",
    "\n",
    "    totRet    = np.prod(returns)\n",
    "    startDate = df.iloc[0]['Date']\n",
    "    endDate   = df.iloc[-1]['Date']\n",
    "    daysHeld  = (endDate - startDate).days\n",
    "    dailyRet  = totRet ** (1. / daysHeld)\n",
    "    aveAnnRet = dailyRet ** 365\n",
    "\n",
    "    print \"Total Return:                                 %6.4f\" % (totRet)\n",
    "    print \"\"\n",
    "    print \"Start Date:\", startDate\n",
    "    print \"End Date:  \", endDate\n",
    "    print \"Days Held: \", daysHeld\n",
    "    print \"Average annualized yield: %4.1f%%\" % ((aveAnnRet - 1)*100)\n",
    "    \n",
    "printMHPReturns(df)"
   ]
  },
  {
   "cell_type": "markdown",
   "metadata": {
    "ExecuteTime": {
     "end_time": "2019-04-10T17:44:38.097974Z",
     "start_time": "2019-04-10T17:44:38.088605Z"
    }
   },
   "source": [
    "Note, in the table above, the discrete jumps between the _Ending Balance_ value in one row and the _Beginning Balance_ value in the next.\n",
    "You're seeing the effect of a _point cash injection_ into the fund.\n",
    "\n",
    "So, the approach recommended by _The Motley Fool_ tells me I've been getting an average annual yield of: **6.4%**.\n",
    "\n",
    "Here's what Schwab says about this fund:\n",
    "\n",
    "![](schwab.png)\n",
    "\n",
    "I notice the following:\n",
    "\n",
    "1. Their \"since inception\" number, which includes about an extra 9 months compared to my own time frame, is pretty close to my calculated value.\n",
    "1. The average return numbers vary wildly with analysis time frame.\n",
    "Why is this?\n",
    "Let's take a look at the raw data:\n"
   ]
  },
  {
   "cell_type": "code",
   "execution_count": 3,
   "metadata": {
    "ExecuteTime": {
     "end_time": "2019-04-16T13:19:31.491930Z",
     "start_time": "2019-04-16T13:19:31.140775Z"
    },
    "collapsed": false
   },
   "outputs": [
    {
     "data": {
      "image/png": "[encoded data removed]",
      "text/plain": [
       "<matplotlib.figure.Figure at 0x10875c750>"
      ]
     },
     "metadata": {},
     "output_type": "display_data"
    }
   ],
   "source": [
    "df.plot(x='Date', y='Balance')\n",
    "plt.show()"
   ]
  },
  {
   "cell_type": "markdown",
   "metadata": {},
   "source": [
    "Some notes on the plot above:\n",
    "\n",
    "1. The long flat stretch at the left is due to missing data.\n",
    "Schwab only provides data going back 10 years, and I didn't start this tracking project until last year.\n",
    "    \n",
    "1. The last cash injection is difficult to see, due to its small size.\n",
    "It occured on April 30, 2018.\n",
    "\n",
    "So, what happens if I redo the calculation, omitting that initial flat stretch?"
   ]
  },
  {
   "cell_type": "code",
   "execution_count": 4,
   "metadata": {
    "ExecuteTime": {
     "end_time": "2019-04-16T13:19:32.384932Z",
     "start_time": "2019-04-16T13:19:32.368783Z"
    },
    "collapsed": false,
    "scrolled": true
   },
   "outputs": [
    {
     "name": "stdout",
     "output_type": "stream",
     "text": [
      "Holding Period Analysis:\n",
      "\n",
      "Period   Beginning Balance   Ending Balance   Return\n",
      "____________________________________________________\n",
      "   1           1.0175              1.2571     1.2355\n",
      "   2           1.9776              2.7415     1.3863\n",
      "   3           4.1417              5.2220     1.2608\n",
      "   4           5.4079              5.4486     1.0075\n",
      "____________________________________________________\n",
      "Total Return:                                 2.1757\n",
      "\n",
      "Start Date: 2008-08-31 00:00:00\n",
      "End Date:   2019-02-28 00:00:00\n",
      "Days Held:  3833\n",
      "Average annualized yield:  7.7%\n"
     ]
    }
   ],
   "source": [
    "printMHPReturns(df[1:])"
   ]
  },
  {
   "cell_type": "markdown",
   "metadata": {},
   "source": [
    "And if I look at the last 10 years:"
   ]
  },
  {
   "cell_type": "code",
   "execution_count": 5,
   "metadata": {
    "ExecuteTime": {
     "end_time": "2019-04-16T13:19:33.603070Z",
     "start_time": "2019-04-16T13:19:33.582472Z"
    },
    "collapsed": false
   },
   "outputs": [
    {
     "name": "stdout",
     "output_type": "stream",
     "text": [
      "Holding Period Analysis:\n",
      "\n",
      "Period   Beginning Balance   Ending Balance   Return\n",
      "____________________________________________________\n",
      "   1           0.7328              1.2571     1.7155\n",
      "   2           1.9776              2.7415     1.3863\n",
      "   3           4.1417              5.2220     1.2608\n",
      "   4           5.4079              5.4486     1.0075\n",
      "____________________________________________________\n",
      "Total Return:                                 3.0210\n",
      "\n",
      "Start Date: 2009-03-31 00:00:00\n",
      "End Date:   2019-02-28 00:00:00\n",
      "Days Held:  3621\n",
      "Average annualized yield: 11.8%\n"
     ]
    }
   ],
   "source": [
    "printMHPReturns(df.loc[df.Date >= '2009-03-31'])"
   ]
  },
  {
   "cell_type": "markdown",
   "metadata": {},
   "source": [
    "And the result agrees very well with the Schwab claim: 11.33%.\n",
    "\n",
    "So it seems the _Motley Fool_ approach is able to get us close to the Schwab numbers, but those numbers are varying quite wildly, depending upon our chosen time interval.\n",
    "That wild variation isn't very confidence inspiring, regarding our ability to predict the future performance of this fund. :(\n",
    "\n",
    "Let's see if we can get more stable results by fitting an exponential curve to _all_ the data points.\n",
    "Before we can do that, we need to correct for the 3 _point cash injections_.\n",
    "Otherwise, they'll unfairly increase our estimate of the fund performance.\n",
    "\n",
    "<a href=\"#contents\">Back to Contents</a>\n"
   ]
  },
  {
   "cell_type": "markdown",
   "metadata": {},
   "source": [
    "## Correcting for Cash Injections\n",
    "\n",
    "### Explaining the Idea\n",
    "\n",
    "The idea behind cash injection correction is simple:\n",
    "\n",
    "> The gain calculated immediately before the cash injection should equal the gain calculated immediately after.\n",
    "That way, the injection of cash does _not_ influence our estimate of the fund performance.\n",
    "\n",
    "In order to calculate a _gain_ from a _balance_, we add a _basis_ to the data.\n",
    "Up until the first cash injection, the basis is simply the opening balance of the account.\n",
    "We apply our guiding principle, above, to determine what the basis should be immediately after the first cash injection.\n",
    "And it remains that value until the next cash injection, at which time we repeat the calculation.\n",
    "\n",
    "**Note:** Any cash injection mentioned in the _Xfr In_ column of the first row of data is ignored.\n",
    "\n",
    "**Example:** Assume row N contains our first cash injection.\n",
    "Because the balance, $B_N$, given in any row containing a non-zero cash injection, $C_N$, is assumed to include that injection, we have for the balance immediately before the injection:\n",
    "\n",
    "$$\n",
    "B' = B_N - C_N\n",
    "$$\n",
    "\n",
    "where $C_N$ is the value in the _Xfr In_ column of row N.\n",
    "\n",
    "And for the _gain_ immediately before the injection:\n",
    "\n",
    "$$\n",
    "G' = \\frac{B'}{P_{N-1}}\n",
    "$$\n",
    "\n",
    "where $P_{N-1}$ is the _basis_ value for row $N-1$.\n",
    "\n",
    "Now, to calculate the new basis value, $P_N$, we simply refer to our guiding principle, above, and require:\n",
    "\n",
    "$$\n",
    "G = \\frac{B_N}{P_N} = G' = \\frac{B'}{P_{N-1}}\n",
    "$$\n",
    "\n",
    "from which we derive:\n",
    "\n",
    "$$\n",
    "P_N = \\frac{B_N}{B'} \\, P_{N-1} = \\frac{B_N}{B_N - C_N} \\, P_{N-1}\n",
    "$$\n",
    "\n",
    "Note that the above formula can be used to populate the new _Basis_ column for all rows except the first (for which _Basis_ = _Balance_), since when $C_N = 0$ we have: $P_N = P_{N-1}$, which is correct.\n",
    "\n",
    "<a href=\"#contents\">Back to Contents</a>\n",
    "\n",
    "### Correcting the Data\n",
    "\n",
    "Using the above, let's create and populate two new columns in our data frame: _Basis_ and _Gain_..."
   ]
  },
  {
   "cell_type": "code",
   "execution_count": 6,
   "metadata": {
    "ExecuteTime": {
     "end_time": "2019-04-16T13:19:36.070174Z",
     "start_time": "2019-04-16T13:19:36.025817Z"
    },
    "collapsed": false,
    "scrolled": false
   },
   "outputs": [],
   "source": [
    "basis = [df.iloc[0]['Balance']]  # Prime the basis w/ the initial balance.\n",
    "gain  = [1.0]\n",
    "for ix in range(1, len(df.index)):\n",
    "    tmpRow   = df.iloc[ix]\n",
    "    tmpBal   = tmpRow['Balance']\n",
    "    tmpBasis = basis[-1] * tmpBal / (tmpBal - tmpRow['XfrIn'])  # (4) above\n",
    "    basis.append(tmpBasis)\n",
    "    gain.append(tmpBal / tmpBasis)\n",
    "df['Basis'] = basis\n",
    "df['Gain']  = gain\n",
    "# print df.dtypes\n",
    "# print df\n"
   ]
  },
  {
   "cell_type": "markdown",
   "metadata": {},
   "source": [
    "<a href=\"#contents\">Back to Contents</a>\n"
   ]
  },
  {
   "cell_type": "markdown",
   "metadata": {},
   "source": [
    "### Checking the Results\n",
    "\n",
    "Now, let's check our new, corrected, single holding period data against our previous results..."
   ]
  },
  {
   "cell_type": "code",
   "execution_count": 7,
   "metadata": {
    "ExecuteTime": {
     "end_time": "2019-04-16T13:19:38.317451Z",
     "start_time": "2019-04-16T13:19:38.298679Z"
    },
    "collapsed": false
   },
   "outputs": [
    {
     "name": "stdout",
     "output_type": "stream",
     "text": [
      " 6.4%\n",
      " 7.7%\n",
      "11.8%\n"
     ]
    }
   ],
   "source": [
    "def getSHPReturn(df, ix):\n",
    "    \"\"\"Get the return, using the corrected data.\"\"\"\n",
    "    daysHeld  = (df.iloc[-1]['Date'] - df.iloc[ix]['Date']).days\n",
    "    totRet    = df.iloc[-1]['Gain'] / df.iloc[ix]['Gain']\n",
    "    dailyRet  = totRet ** (1. / daysHeld)\n",
    "    return(dailyRet ** 365)  # Average annualized yield.\n",
    "\n",
    "rets = [getSHPReturn(df, ix)\n",
    "        for ix in [0, 1, np.where(df['Date'] >= '2009-03-31')[0][0]]]\n",
    "for ret in rets:\n",
    "    print \"%4.1f%%\" % ((ret - 1) * 100)\n",
    "    "
   ]
  },
  {
   "cell_type": "markdown",
   "metadata": {},
   "source": [
    "And these results agree precisely with our previous work.\n",
    "So, we can trust the new, corrected, single holding period data in the _Gain_ column of our dataframe to give us the same results as the multiple holding period approach prescribed by _The Motley Fool_.\n",
    "Good! Now, let's see how well our 3 curves fit this new data...\n",
    "\n",
    "<a href=\"#contents\">Back to Contents</a>\n",
    "\n",
    "## Checking Curve Fit Quality\n",
    "\n",
    "### Qualitative Assessment of 2-pt. Fits\n",
    "\n",
    "Now, let's plot our 3 _2-point exponential fits_ from above (i.e. - \"first / last\", \"second / last\", and \"10-yrs. back / last\") against our new _Gain_ data. (The _Gain_ data is what we're trying to model accurately, because it's what we'd like to be able to predict.)"
   ]
  },
  {
   "cell_type": "code",
   "execution_count": 8,
   "metadata": {
    "ExecuteTime": {
     "end_time": "2019-04-16T13:19:39.758754Z",
     "start_time": "2019-04-16T13:19:39.401250Z"
    },
    "collapsed": false,
    "scrolled": true
   },
   "outputs": [
    {
     "data": {
      "image/png": "[encoded data removed]",
      "text/plain": [
       "<matplotlib.figure.Figure at 0x110f0e9d0>"
      ]
     },
     "metadata": {},
     "output_type": "display_data"
    }
   ],
   "source": [
    "startDate = df.iloc[0]['Date']\n",
    "finalDate = df.iloc[-1]['Date']\n",
    "ref       = df['Gain'].values\n",
    "finalVal  = ref[-1]\n",
    "startIxs  = [0, 1, np.where(df['Date'] >= '2009-03-31')[0][0]]\n",
    "labels    = ['All Data',\n",
    "             'All but 1st',\n",
    "             'Last 10 yrs.']\n",
    "# Note: zip(*x) is how we do unzip(x) in Python.\n",
    "(initVals, initDates, bVals) = map(list, zip(*[\n",
    "    (ref[ix], df.iloc[ix]['Date'], df.iloc[ix]['Gain'])\n",
    "    for ix in startIxs]))\n",
    "mVals = [np.exp(np.log(finalVal / initVal) / (finalDate - initDate).days)\n",
    "         for (initVal, initDate) in zip(initVals, initDates)]\n",
    "\n",
    "def plotFits(labels, starts, bVals, mVals):\n",
    "    \"\"\"Plot various exponential curves against Gain.\"\"\"\n",
    "    df.plot(x='Date', y='Gain')\n",
    "    for (label, ix, b, m) in zip(labels, starts, bVals, mVals):\n",
    "        xs = (df['Date'] - df.iloc[ix]['Date']).map(\n",
    "            lambda x: getattr(x, 'days'))\n",
    "        ys = [b * m**x for x in xs]\n",
    "        plt.plot(df.iloc[ix:]['Date'], ys[ix:], label=label)\n",
    "    plt.legend()\n",
    "    plt.title(\"Various 2-pt. Exponential Fits vs. Actual Data\")\n",
    "    plt.show()\n",
    "\n",
    "plotFits(labels, startIxs, bVals, mVals)\n"
   ]
  },
  {
   "cell_type": "markdown",
   "metadata": {},
   "source": [
    "The plot above gives us a strong visual intuition about what's going on:\n",
    "The growth rate of a simple 2-point exponential fit curve is _strongly_ affected by our chosen starting point.\n",
    "Judging visually and qualitatively, we'd say that the \"All but 1st\" curve is the best fit to the actual data, but how might we assess the fit _quantitatively_?\n",
    "\n",
    "<a href=\"#contents\">Back to Contents</a>\n",
    "\n",
    "### Quantitative Measurement of 2-pt. Fits\n",
    "\n",
    "The [_Coefficient of Determination_](https://en.wikipedia.org/wiki/Coefficient_of_determination) (a.k.a. - \"$R^2$\") method is the most generally accepted approach to determining the \"goodness of fit\" of a model to actual data.\n",
    "Let's measure this coefficient for our 3 models..."
   ]
  },
  {
   "cell_type": "code",
   "execution_count": 9,
   "metadata": {
    "ExecuteTime": {
     "end_time": "2019-04-16T13:19:40.580140Z",
     "start_time": "2019-04-16T13:19:40.545444Z"
    },
    "collapsed": false
   },
   "outputs": [
    {
     "name": "stdout",
     "output_type": "stream",
     "text": [
      "R^2 Values of Fits:\n",
      "\n",
      "Case                     R^2-value\n",
      "__________________________________\n",
      "     All Data              0.7593\n",
      "     All but 1st           0.9118\n",
      "     Last 10 yrs.          0.7483\n"
     ]
    }
   ],
   "source": [
    "def r2(y, y_fit):\n",
    "    \"\"\"Calculate the 'Coefficient of Determination' (R^2-value).\"\"\"\n",
    "    ss_res = np.sum((y - y_fit) ** 2)\n",
    "    ss_tot = np.sum((y - np.mean(y)) ** 2)\n",
    "    return(1 - (ss_res / ss_tot))\n",
    "    \n",
    "def printR2Vals(labels, starts, bVals, mVals):\n",
    "    print \"R^2 Values of Fits:\"\n",
    "    print \"\"\n",
    "    print \"Case                     R^2-value\"\n",
    "    print \"__________________________________\"\n",
    "    for (label, ix, b, m) in zip(labels, starts, bVals, mVals):\n",
    "        xs = (df.iloc[ix:]['Date'] - df.iloc[ix]['Date']).map(lambda x: getattr(x, 'days'))\n",
    "        ys = df.iloc[ix:]['Gain'].values\n",
    "        y_fit = [b * m**x for x in xs]\n",
    "        print \"     %-20s  %6.4f\" % (label, r2(ys, y_fit))\n",
    "\n",
    "printR2Vals(labels, startIxs, bVals, mVals)\n"
   ]
  },
  {
   "cell_type": "markdown",
   "metadata": {},
   "source": [
    "And our initial visual intuition is confirmed: the \"All but 1st\" curve is the best fit to the actual _Gain_ data.\n",
    "\n",
    "<a href=\"#contents\">Back to Contents</a>\n",
    "\n",
    "### Finding the Best Fit to All the Data\n",
    "\n",
    "Now, how might we find the _best_ exponential fit to _all_ the data?\n",
    "\n",
    "We have for our assumed model of a financial investment:\n",
    "\n",
    "$$\n",
    "y = b \\cdot m^x\n",
    "$$\n",
    "\n",
    "where $y$ is the value of our investment at some date, $x$, and $b$ and $m$ are our (to be optimized) _model parameters_.\n",
    "\n",
    "Taking the logarithm of both sides:\n",
    "\n",
    "$$\n",
    "\\log y = \\log (b \\cdot m^x) = \\log b + \\log m^x = \\log b + x \\cdot \\log m\n",
    "$$\n",
    "\n",
    "or:\n",
    "\n",
    "$$\n",
    "y' = m' \\, x + b'\n",
    "$$\n",
    "\n",
    "where:\n",
    "\n",
    "- $y' = \\log y$\n",
    "- $b' = \\log b$\n",
    "- $m' = \\log m$\n",
    "\n",
    "Well, (7) is just the equation for a line.\n",
    "And there are lots of library routines available for doing [_linear regression_](https://en.wikipedia.org/wiki/Linear_regression) (i.e. - fitting a line to a data set).\n",
    "One such routine (available to us, since we're using [_Python_](https://www.python.org)), which is widely used and trusted, is provided by the [_SciPy_](https://www.scipy.org) [_Statistics_ module](https://docs.scipy.org/doc/scipy/reference/tutorial/stats.html): [_linregress_](https://docs.scipy.org/doc/scipy/reference/generated/scipy.stats.linregress.html?highlight=linregress#scipy.stats.linregress).\n",
    "Let's use it to find the best fit exponential curve to our _Gain_ data, and add it to our plot and _R^2 Values_ table...\n"
   ]
  },
  {
   "cell_type": "code",
   "execution_count": 10,
   "metadata": {
    "ExecuteTime": {
     "end_time": "2019-04-16T13:19:42.593892Z",
     "start_time": "2019-04-16T13:19:41.612270Z"
    },
    "collapsed": false
   },
   "outputs": [
    {
     "data": {
      "image/png": "[encoded data removed]",
      "text/plain": [
       "<matplotlib.figure.Figure at 0x112d01b10>"
      ]
     },
     "metadata": {},
     "output_type": "display_data"
    },
    {
     "name": "stdout",
     "output_type": "stream",
     "text": [
      "R^2 Values of Fits:\n",
      "\n",
      "Case                     R^2-value\n",
      "__________________________________\n",
      "     All Data              0.7593\n",
      "     All but 1st           0.9118\n",
      "     Last 10 yrs.          0.7483\n",
      "     Best Fit - All        0.9507\n"
     ]
    }
   ],
   "source": [
    "from scipy.stats import linregress\n",
    "\n",
    "def expFit(df):\n",
    "    xs = (df['Date'] - df.iloc[0]['Date']).map(lambda x: getattr(x, 'days'))\n",
    "    ys = np.log(df['Gain'].values)  # y', above.\n",
    "    slope, intercept, r_value, p_value, std_err = linregress(xs, ys)\n",
    "    # print \"R^2-value of linear regression: %6.4f\" % (r_value ** 2)\n",
    "    b = np.exp(intercept)  # 'intercept' is b', above.\n",
    "    m = np.exp(slope)      # 'slope' is m', above.\n",
    "    return (b, m)\n",
    "\n",
    "(b, m) = expFit(df)\n",
    "labels.append('Best Fit - All')\n",
    "startIxs.append(0)\n",
    "bVals.append(b)\n",
    "mVals.append(m)\n",
    "plotFits(labels, startIxs, bVals, mVals)\n",
    "printR2Vals(labels, startIxs, bVals, mVals)\n"
   ]
  },
  {
   "cell_type": "markdown",
   "metadata": {},
   "source": [
    "And we see that the _Best Fit_ curve has the highest $R^2$ value, indicating that it is the best model for the data.\n",
    "\n",
    "<a href=\"#contents\">Back to Contents</a>\n",
    "\n",
    "### Stability in Predicted Yield of _Best Fit_ Curve\n",
    "\n",
    "What average annualized rate of return does our new _Best Fit_ curve predict?"
   ]
  },
  {
   "cell_type": "code",
   "execution_count": 11,
   "metadata": {
    "ExecuteTime": {
     "end_time": "2019-04-16T13:19:42.789500Z",
     "start_time": "2019-04-16T13:19:42.784018Z"
    },
    "collapsed": false
   },
   "outputs": [
    {
     "name": "stdout",
     "output_type": "stream",
     "text": [
      "The average annualized yield predicted by the best fit exponential curve for the data is:  9.93%.\n"
     ]
    }
   ],
   "source": [
    "print \"The average annualized yield predicted by the best fit exponential curve for the data is: %5.2f%%.\" % ((mVals[-1]**365 - 1)*100)"
   ]
  },
  {
   "cell_type": "markdown",
   "metadata": {},
   "source": [
    "How stable is this prediction?\n",
    "\n",
    "To answer this question, let's repeat the fitting using the same 3 trimmed versions of the data we've been using..."
   ]
  },
  {
   "cell_type": "code",
   "execution_count": 12,
   "metadata": {
    "ExecuteTime": {
     "end_time": "2019-04-16T13:19:44.304640Z",
     "start_time": "2019-04-16T13:19:43.800446Z"
    },
    "collapsed": false
   },
   "outputs": [
    {
     "name": "stdout",
     "output_type": "stream",
     "text": [
      "Case             Yield\n",
      "______________________\n",
      "All Data          9.9%\n",
      "All but 1st      10.2%\n",
      "Last 10 yrs.      9.9%\n"
     ]
    },
    {
     "data": {
      "image/png": "[encoded data removed]",
      "text/plain": [
       "<matplotlib.figure.Figure at 0x112d49410>"
      ]
     },
     "metadata": {},
     "output_type": "display_data"
    },
    {
     "name": "stdout",
     "output_type": "stream",
     "text": [
      "R^2 Values of Fits:\n",
      "\n",
      "Case                     R^2-value\n",
      "__________________________________\n",
      "     All Data              0.7593\n",
      "     All but 1st           0.9118\n",
      "     Last 10 yrs.          0.7483\n",
      "     Best Fit - All        0.9507\n",
      "     Best Fit - but 1st    0.9521\n",
      "     Best Fit - 10 yrs.    0.9563\n"
     ]
    }
   ],
   "source": [
    "rets = [1.0993]\n",
    "labels.append('Best Fit - but 1st')\n",
    "labels.append('Best Fit - 10 yrs.')\n",
    "for ix in startIxs[1:-1]:  # The last is the same as the first.\n",
    "    (b, m) = expFit(df.iloc[ix:])\n",
    "    startIxs.append(ix)\n",
    "    bVals.append(b)\n",
    "    mVals.append(m)\n",
    "    rets.append(m**365)\n",
    "print \"Case             Yield\"\n",
    "print \"______________________\"\n",
    "for (label, ret) in zip(labels[:-1], rets):\n",
    "    print \"%-15s  %4.1f%%\" % (label, (ret - 1)*100)\n",
    "plotFits(labels, startIxs, bVals, mVals)\n",
    "printR2Vals(labels, startIxs, bVals, mVals)\n"
   ]
  },
  {
   "cell_type": "markdown",
   "metadata": {},
   "source": [
    "And we see that fitting the curve to all data in a set yields a much stabler prediction of the future yield than the 2-point fit approach prescribed by _The Motley Fool_, whether with _multiple_ or _single_ holding periods.\n",
    "\n",
    "<a href=\"#contents\">Back to Contents</a>\n"
   ]
  },
  {
   "cell_type": "markdown",
   "metadata": {},
   "source": [
    "## Conclusion\n",
    "\n",
    "- We've looked at a couple different ways to estimate long-term fund performance and found that we get stabler results when using _all_ points in a data set to fit a model to the existing data.\n",
    "\n",
    "- We've proposed a method for correcting for the effect of _point cash injections_ into a fund on our estimate of that fund's performance.\n",
    "\n",
    "- We've applied these techniques to analyze the performance of a particular _Schwab_ fund (SWDRX), of interest to those of us planning to retire in, or near, 2030, using data going back 10 years, and found that it can be expected to yield, on average, 10% per year, assuming all dividends and capital gains are reinvested.\n",
    "\n",
    "<a href=\"#contents\">Back to Contents</a>\n",
    "\n",
    "## Analyzing Your Own Data\n",
    "\n",
    "To use this notebook to assess the performance of your own investments involves two steps:\n",
    "\n",
    "1. Install _Python_ and the _Jupyter_ notebook server.\n",
    "\n",
    "    1. I recommend installing the [_Anaconda_ Python Distribution](https://docs.anaconda.com/anaconda/install/) if you don't already have some other Python distribution installed on your computer.\n",
    "    By using the _Anaconda_ distribution you get everything you need \"out of the box\".\n",
    "    \n",
    "    1. If you already have a different Python distribution installed and it didn't include the _Jupyter_ notebook server by default, follow these [general _Jupyter_ installation instructions](https://jupyter.org/install).\n",
    "    \n",
    "1. Create a file named \"DavesIRA.csv\" that contains your own data.\n",
    "\n",
    "    As an aid, here are the first few lines of my _DavesIRA.csv_ file:\n",
    "    \n",
    "    ```\n",
    "    Date,Balance,XfrIn\n",
    "    4/10/06,1.0000,1.0000\n",
    "    8/31/08,1.0175,0.0000\n",
    "    9/30/08,0.9381,0.0000\n",
    "    ```\n",
    "\n",
    "    (All remaining lines have the same format as the last one shown above.)\n",
    "    \n",
    "<a href=\"#contents\">Back to Contents</a>\n"
   ]
  }
 ],
 "metadata": {
  "anaconda-cloud": {},
  "kernelspec": {
   "display_name": "Python 2",
   "language": "python",
   "name": "python2"
  },
  "language_info": {
   "codemirror_mode": {
    "name": "ipython",
    "version": 2
   },
   "file_extension": ".py",
   "mimetype": "text/x-python",
   "name": "python",
   "nbconvert_exporter": "python",
   "pygments_lexer": "ipython2",
   "version": "2.7.13"
  },
  "latex_envs": {
   "LaTeX_envs_menu_present": true,
   "autocomplete": true,
   "bibliofile": "biblio.bib",
   "cite_by": "apalike",
   "current_citInitial": 1,
   "eqLabelWithNumbers": true,
   "eqNumInitial": 1,
   "hotkeys": {
    "equation": "Ctrl-E",
    "itemize": "Ctrl-I"
   },
   "labels_anchors": false,
   "latex_user_defs": false,
   "report_style_numbering": false,
   "user_envs_cfg": false
  },
  "toc": {
   "nav_menu": {},
   "number_sections": true,
   "sideBar": true,
   "skip_h1_title": true,
   "toc_cell": true,
   "toc_position": {},
   "toc_section_display": "block",
   "toc_window_display": false
  }
 },
 "nbformat": 4,
 "nbformat_minor": 0
}
